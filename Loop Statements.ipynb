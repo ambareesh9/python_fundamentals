{
 "cells": [
  {
   "cell_type": "code",
   "execution_count": 5,
   "metadata": {},
   "outputs": [
    {
     "name": "stdout",
     "output_type": "stream",
     "text": [
      "healthy foods to have in the morning:['apple', 'cherry', 'melons', 'blueberry']\n",
      "healthy foods to have in the morning:['apple', 'cherry', 'melons', 'blueberry']\n",
      "healthy foods to have in the morning:['apple', 'cherry', 'melons', 'blueberry']\n",
      "healthy foods to have in the morning:['apple', 'cherry', 'melons', 'blueberry']\n"
     ]
    }
   ],
   "source": [
    "# Implementing 'for' loop \n",
    "\n",
    "fruits=['apple','cherry','melons','blueberry']\n",
    "for fruit in fruits:\n",
    "    print(f'healthy foods to have in the morning:{fruits}')"
   ]
  },
  {
   "cell_type": "code",
   "execution_count": 4,
   "metadata": {},
   "outputs": [
    {
     "name": "stdout",
     "output_type": "stream",
     "text": [
      "knife\n",
      "bottle\n",
      "pita bread\n",
      "blanket\n"
     ]
    }
   ],
   "source": [
    "# Enhancement of the code\n",
    "\n",
    "for items in travel_bag:\n",
    "    print(items)"
   ]
  },
  {
   "cell_type": "code",
   "execution_count": 6,
   "metadata": {},
   "outputs": [
    {
     "name": "stdout",
     "output_type": "stream",
     "text": [
      "Healthy breakfast are,['apple', 'cherry', 'melons', 'blueberry']\n",
      "healthy breakfast keeps healthy \n",
      "\n",
      "Healthy breakfast are,['apple', 'cherry', 'melons', 'blueberry']\n",
      "healthy breakfast keeps healthy \n",
      "\n",
      "Healthy breakfast are,['apple', 'cherry', 'melons', 'blueberry']\n",
      "healthy breakfast keeps healthy \n",
      "\n",
      "Healthy breakfast are,['apple', 'cherry', 'melons', 'blueberry']\n",
      "healthy breakfast keeps healthy \n",
      "\n"
     ]
    }
   ],
   "source": [
    "for fruit in fruits:\n",
    "    print(f'Healthy breakfast are,{fruits}')\n",
    "    print(f'healthy breakfast keeps healthy \\n')"
   ]
  },
  {
   "cell_type": "code",
   "execution_count": 7,
   "metadata": {},
   "outputs": [
    {
     "name": "stdout",
     "output_type": "stream",
     "text": [
      "2\n",
      "3\n",
      "4\n",
      "5\n",
      "6\n",
      "7\n",
      "8\n",
      "9\n",
      "10\n",
      "11\n",
      "12\n",
      "13\n",
      "14\n",
      "15\n",
      "16\n",
      "17\n",
      "18\n",
      "19\n"
     ]
    }
   ],
   "source": [
    "# making a numerical list\n",
    "\n",
    "for value in range (2,20):\n",
    "    print(value)"
   ]
  },
  {
   "cell_type": "code",
   "execution_count": 8,
   "metadata": {},
   "outputs": [],
   "source": [
    "## If condition\n",
    "\n",
    "Destinations=['europe','france','newyork','chaina']"
   ]
  },
  {
   "cell_type": "code",
   "execution_count": 9,
   "metadata": {},
   "outputs": [
    {
     "name": "stdout",
     "output_type": "stream",
     "text": [
      "EUROPE\n",
      "France\n",
      "Newyork\n",
      "Chaina\n"
     ]
    }
   ],
   "source": [
    "for place in Destinations:\n",
    "    if place=='europe':\n",
    "        print(place.upper())\n",
    "    else:\n",
    "        print(place.title())"
   ]
  },
  {
   "cell_type": "code",
   "execution_count": 10,
   "metadata": {},
   "outputs": [
    {
     "name": "stdout",
     "output_type": "stream",
     "text": [
      "please enter your age: 23\n",
      "\n",
      " Hello, please be seated according to your age,23\n"
     ]
    }
   ],
   "source": [
    "# User accepted input\n",
    "\n",
    "age=input('please enter your age: ')\n",
    "print(f'\\n Hello, please be seated according to your age,{age}')"
   ]
  },
  {
   "cell_type": "code",
   "execution_count": 12,
   "metadata": {},
   "outputs": [
    {
     "name": "stdout",
     "output_type": "stream",
     "text": [
      "how old are you?16\n",
      "better luck next year\n"
     ]
    }
   ],
   "source": [
    "## Building a simple voting application\n",
    "\n",
    "# Req: age should be above 18 yrs\n",
    "    \n",
    "age=input('how old are you?')\n",
    "age=int(age)\n",
    "if age>=18:\n",
    "    print('You are eligable')\n",
    "else:\n",
    "    print('better luck next year')"
   ]
  },
  {
   "cell_type": "code",
   "execution_count": null,
   "metadata": {},
   "outputs": [],
   "source": [
    "## Simple statistics with lists\n",
    "\n"
   ]
  },
  {
   "cell_type": "code",
   "execution_count": 16,
   "metadata": {},
   "outputs": [
    {
     "name": "stdout",
     "output_type": "stream",
     "text": [
      "[1, 2, 3, 4, 5, 6, 7, 8, 9, 10, 11, 12, 13, 14, 15, 16, 17, 18, 19, 20]\n"
     ]
    }
   ],
   "source": [
    "age=[1,2,3,4,5,6,7,8,9,10,11,12,13,14,15,16,17,18,19,20]\n",
    "print(age)"
   ]
  },
  {
   "cell_type": "code",
   "execution_count": 17,
   "metadata": {},
   "outputs": [
    {
     "data": {
      "text/plain": [
       "1"
      ]
     },
     "execution_count": 17,
     "metadata": {},
     "output_type": "execute_result"
    }
   ],
   "source": [
    "min(age)"
   ]
  },
  {
   "cell_type": "code",
   "execution_count": 18,
   "metadata": {},
   "outputs": [
    {
     "data": {
      "text/plain": [
       "20"
      ]
     },
     "execution_count": 18,
     "metadata": {},
     "output_type": "execute_result"
    }
   ],
   "source": [
    "max(age)"
   ]
  },
  {
   "cell_type": "code",
   "execution_count": 19,
   "metadata": {},
   "outputs": [
    {
     "data": {
      "text/plain": [
       "210"
      ]
     },
     "execution_count": 19,
     "metadata": {},
     "output_type": "execute_result"
    }
   ],
   "source": [
    "sum(age)"
   ]
  },
  {
   "cell_type": "code",
   "execution_count": 20,
   "metadata": {},
   "outputs": [
    {
     "name": "stdout",
     "output_type": "stream",
     "text": [
      "['knife', 'blanket', 'bottle', 'lighter']\n"
     ]
    }
   ],
   "source": [
    "## working with list\n",
    "\n",
    "travel_bag=['knife','blanket','bottle','lighter']\n",
    "print(travel_bag)"
   ]
  },
  {
   "cell_type": "code",
   "execution_count": 21,
   "metadata": {},
   "outputs": [
    {
     "data": {
      "text/plain": [
       "4"
      ]
     },
     "execution_count": 21,
     "metadata": {},
     "output_type": "execute_result"
    }
   ],
   "source": [
    "len(travel_bag)"
   ]
  },
  {
   "cell_type": "code",
   "execution_count": 22,
   "metadata": {},
   "outputs": [
    {
     "name": "stdout",
     "output_type": "stream",
     "text": [
      "['knife', 'blanket', 'bottle']\n"
     ]
    }
   ],
   "source": [
    "print(travel_bag[0:3])"
   ]
  },
  {
   "cell_type": "code",
   "execution_count": 23,
   "metadata": {},
   "outputs": [
    {
     "name": "stdout",
     "output_type": "stream",
     "text": [
      "['bottle', 'lighter']\n"
     ]
    }
   ],
   "source": [
    "print(travel_bag[2:4])"
   ]
  },
  {
   "cell_type": "code",
   "execution_count": 24,
   "metadata": {},
   "outputs": [
    {
     "name": "stdout",
     "output_type": "stream",
     "text": [
      "['bottle']\n"
     ]
    }
   ],
   "source": [
    "print(travel_bag[2:-1])"
   ]
  },
  {
   "cell_type": "code",
   "execution_count": 26,
   "metadata": {},
   "outputs": [
    {
     "name": "stdout",
     "output_type": "stream",
     "text": [
      "[]\n"
     ]
    }
   ],
   "source": [
    "print(travel_bag[-2:2])  ## why negative indexing doesnt work ?"
   ]
  },
  {
   "cell_type": "code",
   "execution_count": null,
   "metadata": {},
   "outputs": [],
   "source": []
  },
  {
   "cell_type": "code",
   "execution_count": 27,
   "metadata": {},
   "outputs": [
    {
     "name": "stdout",
     "output_type": "stream",
     "text": [
      "(1, 1, 2, 3, 4, 4)\n"
     ]
    }
   ],
   "source": [
    "## Tuple data type\n",
    "\n",
    "ranks=(1,1,2,3,4,4)\n",
    "print(ranks)"
   ]
  },
  {
   "cell_type": "code",
   "execution_count": 28,
   "metadata": {},
   "outputs": [
    {
     "data": {
      "text/plain": [
       "tuple"
      ]
     },
     "execution_count": 28,
     "metadata": {},
     "output_type": "execute_result"
    }
   ],
   "source": [
    "type(ranks)"
   ]
  },
  {
   "cell_type": "code",
   "execution_count": 29,
   "metadata": {},
   "outputs": [
    {
     "name": "stdout",
     "output_type": "stream",
     "text": [
      "(2, 1, 3, 4, 4)\n"
     ]
    }
   ],
   "source": [
    "ranks=(2,1,3,4,4)\n",
    "print(ranks)"
   ]
  },
  {
   "cell_type": "code",
   "execution_count": null,
   "metadata": {},
   "outputs": [],
   "source": []
  }
 ],
 "metadata": {
  "kernelspec": {
   "display_name": "Python 3",
   "language": "python",
   "name": "python3"
  },
  "language_info": {
   "codemirror_mode": {
    "name": "ipython",
    "version": 3
   },
   "file_extension": ".py",
   "mimetype": "text/x-python",
   "name": "python",
   "nbconvert_exporter": "python",
   "pygments_lexer": "ipython3",
   "version": "3.7.1"
  }
 },
 "nbformat": 4,
 "nbformat_minor": 2
}
