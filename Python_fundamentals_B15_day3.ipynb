{
 "cells": [
  {
   "cell_type": "code",
   "execution_count": 2,
   "metadata": {},
   "outputs": [
    {
     "name": "stdout",
     "output_type": "stream",
     "text": [
      "Hi Kumar Good morning\n"
     ]
    }
   ],
   "source": [
    "## Introducation to f-strings\n",
    "\n",
    "#  - they are used to create place holder \n",
    "\n",
    "greeting='Hi'\n",
    "name='Kumar'\n",
    "greeting1='Good morning'\n",
    "\n",
    "final_greeting=f\"{greeting} {name} {greeting1}\"\n",
    "print(final_greeting)"
   ]
  },
  {
   "cell_type": "code",
   "execution_count": 3,
   "metadata": {},
   "outputs": [
    {
     "name": "stdout",
     "output_type": "stream",
     "text": [
      " Hi Kumar Please Complete The Provided Task By The Eod\n"
     ]
    }
   ],
   "source": [
    "a1='complete the provided task'\n",
    "a2='by the EOD'\n",
    "a3=f\" Hi Kumar Please {a1.title()} {a2.title()}\"\n",
    "print(a3)"
   ]
  },
  {
   "cell_type": "code",
   "execution_count": 4,
   "metadata": {},
   "outputs": [
    {
     "name": "stdout",
     "output_type": "stream",
     "text": [
      "KUMAR Complete The Provided Task By The Eod\n"
     ]
    }
   ],
   "source": [
    "b1=\"kumar\"\n",
    "b2='complete the provided task by the EOD'\n",
    "b3=f\"{b1.upper()} {b2.title()}\"\n",
    "print(b3)"
   ]
  },
  {
   "cell_type": "code",
   "execution_count": 5,
   "metadata": {},
   "outputs": [
    {
     "name": "stdout",
     "output_type": "stream",
     "text": [
      "break\n",
      "the\n",
      "things\n"
     ]
    }
   ],
   "source": [
    "## Delimiters\n",
    "# new line\n",
    "\n",
    "list_a='break\\nthe\\nthings'\n",
    "print(list_a)"
   ]
  },
  {
   "cell_type": "code",
   "execution_count": 6,
   "metadata": {},
   "outputs": [
    {
     "name": "stdout",
     "output_type": "stream",
     "text": [
      "\tfundamentals\n",
      "of\n",
      "python\n"
     ]
    }
   ],
   "source": [
    "# adding tab space\n",
    "\n",
    "d='\\tfundamentals\\nof\\npython'\n",
    "print(d)"
   ]
  },
  {
   "cell_type": "code",
   "execution_count": 8,
   "metadata": {},
   "outputs": [
    {
     "name": "stdout",
     "output_type": "stream",
     "text": [
      "\tfundamentals\n",
      "\tof\n",
      "\tpython\n"
     ]
    }
   ],
   "source": [
    "d1='\\tfundamentals\\n\\tof\\n\\tpython'\n",
    "print(d1)"
   ]
  },
  {
   "cell_type": "code",
   "execution_count": 10,
   "metadata": {},
   "outputs": [
    {
     "name": "stdout",
     "output_type": "stream",
     "text": [
      "fundamentals\t\n",
      "of\t\n",
      "python\n"
     ]
    }
   ],
   "source": [
    "d2='fundamentals\\t\\nof\\t\\npython'\n",
    "print(d2)"
   ]
  },
  {
   "cell_type": "code",
   "execution_count": 11,
   "metadata": {},
   "outputs": [],
   "source": [
    "## in 10 why didn't it go for the tab space in between the sentence"
   ]
  },
  {
   "cell_type": "code",
   "execution_count": 12,
   "metadata": {},
   "outputs": [
    {
     "name": "stdout",
     "output_type": "stream",
     "text": [
      " wash your hands\n"
     ]
    }
   ],
   "source": [
    "# removing the white space\n",
    "\n",
    "a=' wash your hands  '\n",
    "print(a)"
   ]
  },
  {
   "cell_type": "code",
   "execution_count": 13,
   "metadata": {},
   "outputs": [
    {
     "name": "stdout",
     "output_type": "stream",
     "text": [
      "wash your hands\n"
     ]
    }
   ],
   "source": [
    "print(a.strip())"
   ]
  },
  {
   "cell_type": "code",
   "execution_count": 14,
   "metadata": {},
   "outputs": [
    {
     "name": "stdout",
     "output_type": "stream",
     "text": [
      " wash your hands\n"
     ]
    }
   ],
   "source": [
    "print(a.rstrip())"
   ]
  },
  {
   "cell_type": "code",
   "execution_count": 15,
   "metadata": {},
   "outputs": [
    {
     "name": "stdout",
     "output_type": "stream",
     "text": [
      "wash your hands\n"
     ]
    }
   ],
   "source": [
    "print(a.lstrip())"
   ]
  },
  {
   "cell_type": "code",
   "execution_count": null,
   "metadata": {},
   "outputs": [],
   "source": []
  }
 ],
 "metadata": {
  "kernelspec": {
   "display_name": "Python 3",
   "language": "python",
   "name": "python3"
  },
  "language_info": {
   "codemirror_mode": {
    "name": "ipython",
    "version": 3
   },
   "file_extension": ".py",
   "mimetype": "text/x-python",
   "name": "python",
   "nbconvert_exporter": "python",
   "pygments_lexer": "ipython3",
   "version": "3.7.1"
  }
 },
 "nbformat": 4,
 "nbformat_minor": 2
}
